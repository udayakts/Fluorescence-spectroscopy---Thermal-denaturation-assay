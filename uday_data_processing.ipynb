{
 "cells": [
  {
   "cell_type": "code",
   "execution_count": 1,
   "metadata": {
    "ExecuteTime": {
     "end_time": "2018-10-06T19:34:48.350279Z",
     "start_time": "2018-10-06T19:34:44.205219Z"
    }
   },
   "outputs": [],
   "source": [
    "#import warnings\n",
    "#warnings.filterwarnings('ignore')\n",
    "import pandas as pd\n",
    "import matplotlib.pyplot as plt\n",
    "from glob2 import glob\n",
    "import re\n",
    "import numpy as np\n",
    "from sklearn.linear_model import LinearRegression\n",
    "from scipy.optimize import curve_fit\n",
    "%matplotlib inline"
   ]
  },
  {
   "cell_type": "code",
   "execution_count": 2,
   "metadata": {
    "ExecuteTime": {
     "end_time": "2018-10-06T20:14:19.314326Z",
     "start_time": "2018-10-06T20:14:19.303063Z"
    }
   },
   "outputs": [],
   "source": [
    "# To read the temperature from the file\n",
    "def get_temperature(text):\n",
    "    return re.findall(r\"[-+]?\\d*\\.\\d+|\\d+\", text)[0]\n",
    "\n",
    "\n",
    "# To read the numeric data from the file \n",
    "def get_readings(dat_file):\n",
    "    df = pd.read_csv(dat_file, sep='\\s+', skiprows=18, error_bad_lines=False, warn_bad_lines=False)\n",
    "    df = df[pd.to_numeric(df.FL_Signal, errors='coerce').notnull()]\n",
    "    df = df.apply(pd.to_numeric)\n",
    "    return df\n",
    "\n",
    "# Read all the files\n",
    "def read_all_files(filepath, wavelength_threshold=310):\n",
    "    df = pd.DataFrame()\n",
    "    for dat_file in glob(filepath):\n",
    "        with open(dat_file, 'r') as f:\n",
    "            lines = f.readlines()\n",
    "            temperature = float(get_temperature(lines[7]))\n",
    "        if df.empty:\n",
    "            df = get_readings(dat_file)\n",
    "            df.rename({'FL_Signal': temperature}, axis=1, inplace=True)\n",
    "            df.drop(['FL_Dynode'], axis=1, inplace=True)\n",
    "        else:\n",
    "            temp_df = get_readings(dat_file)\n",
    "            df[temperature]=temp_df['FL_Signal']\n",
    "\n",
    "    my_dataframe = pd.DataFrame()\n",
    "    my_dataframe['wavelength'] = df.X\n",
    "    df.drop(['X'], axis=1, inplace=True)\n",
    "    df = df.reindex(sorted(df.columns), axis=1)\n",
    "    my_dataframe = pd.concat([my_dataframe, df], axis=1)\n",
    "    my_dataframe = my_dataframe[my_dataframe.wavelength > 310]\n",
    "    return my_dataframe\n",
    "\n",
    "def fit_line(df, temp_low=4, temp_high=20, plot=True):\n",
    "    T_inv_min = 1/(temp_high + 273.15)\n",
    "    T_inv_max = 1/(temp_low + 273.15)\n",
    "    temp_df = df[(df.T_inv>=T_inv_min) & (df.T_inv<=T_inv_max)]\n",
    "    reg = LinearRegression().fit(temp_df['T_inv'].values.reshape(-1, 1), temp_df['ln(Q_inv - 1)'])\n",
    "    slope = reg.coef_[0]\n",
    "    intercept = reg.intercept_\n",
    "    if plot:\n",
    "        plt.scatter(df['T_inv'], df['ln(Q_inv - 1)'])\n",
    "        plt.plot(temp_df['T_inv'], reg.predict(temp_df['T_inv'].values.reshape(-1, 1)), color='r', linewidth=2)\n",
    "        plt.xlim(xmin= np.min(df['T_inv']), xmax=np.max(df['T_inv']))\n",
    "    return slope, intercept"
   ]
  },
  {
   "cell_type": "code",
   "execution_count": 3,
   "metadata": {
    "ExecuteTime": {
     "end_time": "2018-10-06T19:34:48.806022Z",
     "start_time": "2018-10-06T19:34:48.376467Z"
    },
    "scrolled": true
   },
   "outputs": [
    {
     "data": {
      "text/html": [
       "<div>\n",
       "<style scoped>\n",
       "    .dataframe tbody tr th:only-of-type {\n",
       "        vertical-align: middle;\n",
       "    }\n",
       "\n",
       "    .dataframe tbody tr th {\n",
       "        vertical-align: top;\n",
       "    }\n",
       "\n",
       "    .dataframe thead th {\n",
       "        text-align: right;\n",
       "    }\n",
       "</style>\n",
       "<table border=\"1\" class=\"dataframe\">\n",
       "  <thead>\n",
       "    <tr style=\"text-align: right;\">\n",
       "      <th></th>\n",
       "      <th>wavelength</th>\n",
       "      <th>4.0</th>\n",
       "      <th>6.0</th>\n",
       "      <th>8.0</th>\n",
       "      <th>10.0</th>\n",
       "      <th>12.0</th>\n",
       "      <th>14.0</th>\n",
       "      <th>16.0</th>\n",
       "      <th>18.0</th>\n",
       "      <th>20.0</th>\n",
       "      <th>...</th>\n",
       "      <th>80.0</th>\n",
       "      <th>82.0</th>\n",
       "      <th>84.0</th>\n",
       "      <th>86.0</th>\n",
       "      <th>88.0</th>\n",
       "      <th>90.0</th>\n",
       "      <th>92.0</th>\n",
       "      <th>94.0</th>\n",
       "      <th>96.0</th>\n",
       "      <th>98.0</th>\n",
       "    </tr>\n",
       "  </thead>\n",
       "  <tbody>\n",
       "    <tr>\n",
       "      <th>0</th>\n",
       "      <td>450.000</td>\n",
       "      <td>0.080</td>\n",
       "      <td>0.080</td>\n",
       "      <td>0.081</td>\n",
       "      <td>0.080</td>\n",
       "      <td>0.080</td>\n",
       "      <td>0.081</td>\n",
       "      <td>0.081</td>\n",
       "      <td>0.080</td>\n",
       "      <td>0.081</td>\n",
       "      <td>...</td>\n",
       "      <td>0.079</td>\n",
       "      <td>0.079</td>\n",
       "      <td>0.079</td>\n",
       "      <td>0.079</td>\n",
       "      <td>0.078</td>\n",
       "      <td>0.078</td>\n",
       "      <td>0.078</td>\n",
       "      <td>0.077</td>\n",
       "      <td>0.078</td>\n",
       "      <td>0.078</td>\n",
       "    </tr>\n",
       "    <tr>\n",
       "      <th>1</th>\n",
       "      <td>449.000</td>\n",
       "      <td>0.081</td>\n",
       "      <td>0.081</td>\n",
       "      <td>0.082</td>\n",
       "      <td>0.081</td>\n",
       "      <td>0.081</td>\n",
       "      <td>0.081</td>\n",
       "      <td>0.080</td>\n",
       "      <td>0.081</td>\n",
       "      <td>0.081</td>\n",
       "      <td>...</td>\n",
       "      <td>0.078</td>\n",
       "      <td>0.079</td>\n",
       "      <td>0.079</td>\n",
       "      <td>0.077</td>\n",
       "      <td>0.079</td>\n",
       "      <td>0.078</td>\n",
       "      <td>0.079</td>\n",
       "      <td>0.078</td>\n",
       "      <td>0.078</td>\n",
       "      <td>0.078</td>\n",
       "    </tr>\n",
       "    <tr>\n",
       "      <th>2</th>\n",
       "      <td>448.000</td>\n",
       "      <td>0.081</td>\n",
       "      <td>0.081</td>\n",
       "      <td>0.080</td>\n",
       "      <td>0.081</td>\n",
       "      <td>0.082</td>\n",
       "      <td>0.080</td>\n",
       "      <td>0.081</td>\n",
       "      <td>0.082</td>\n",
       "      <td>0.082</td>\n",
       "      <td>...</td>\n",
       "      <td>0.079</td>\n",
       "      <td>0.080</td>\n",
       "      <td>0.079</td>\n",
       "      <td>0.079</td>\n",
       "      <td>0.078</td>\n",
       "      <td>0.079</td>\n",
       "      <td>0.079</td>\n",
       "      <td>0.078</td>\n",
       "      <td>0.078</td>\n",
       "      <td>0.079</td>\n",
       "    </tr>\n",
       "    <tr>\n",
       "      <th>3</th>\n",
       "      <td>447.000</td>\n",
       "      <td>0.081</td>\n",
       "      <td>0.081</td>\n",
       "      <td>0.082</td>\n",
       "      <td>0.082</td>\n",
       "      <td>0.082</td>\n",
       "      <td>0.081</td>\n",
       "      <td>0.082</td>\n",
       "      <td>0.081</td>\n",
       "      <td>0.082</td>\n",
       "      <td>...</td>\n",
       "      <td>0.079</td>\n",
       "      <td>0.079</td>\n",
       "      <td>0.079</td>\n",
       "      <td>0.079</td>\n",
       "      <td>0.079</td>\n",
       "      <td>0.078</td>\n",
       "      <td>0.079</td>\n",
       "      <td>0.078</td>\n",
       "      <td>0.078</td>\n",
       "      <td>0.077</td>\n",
       "    </tr>\n",
       "    <tr>\n",
       "      <th>4</th>\n",
       "      <td>446.000</td>\n",
       "      <td>0.082</td>\n",
       "      <td>0.081</td>\n",
       "      <td>0.082</td>\n",
       "      <td>0.082</td>\n",
       "      <td>0.081</td>\n",
       "      <td>0.082</td>\n",
       "      <td>0.081</td>\n",
       "      <td>0.081</td>\n",
       "      <td>0.082</td>\n",
       "      <td>...</td>\n",
       "      <td>0.079</td>\n",
       "      <td>0.079</td>\n",
       "      <td>0.079</td>\n",
       "      <td>0.079</td>\n",
       "      <td>0.079</td>\n",
       "      <td>0.078</td>\n",
       "      <td>0.078</td>\n",
       "      <td>0.078</td>\n",
       "      <td>0.078</td>\n",
       "      <td>0.077</td>\n",
       "    </tr>\n",
       "    <tr>\n",
       "      <th>...</th>\n",
       "      <td>...</td>\n",
       "      <td>...</td>\n",
       "      <td>...</td>\n",
       "      <td>...</td>\n",
       "      <td>...</td>\n",
       "      <td>...</td>\n",
       "      <td>...</td>\n",
       "      <td>...</td>\n",
       "      <td>...</td>\n",
       "      <td>...</td>\n",
       "      <td>...</td>\n",
       "      <td>...</td>\n",
       "      <td>...</td>\n",
       "      <td>...</td>\n",
       "      <td>...</td>\n",
       "      <td>...</td>\n",
       "      <td>...</td>\n",
       "      <td>...</td>\n",
       "      <td>...</td>\n",
       "      <td>...</td>\n",
       "      <td>...</td>\n",
       "    </tr>\n",
       "    <tr>\n",
       "      <th>136</th>\n",
       "      <td>314.001</td>\n",
       "      <td>0.339</td>\n",
       "      <td>0.332</td>\n",
       "      <td>0.325</td>\n",
       "      <td>0.317</td>\n",
       "      <td>0.311</td>\n",
       "      <td>0.305</td>\n",
       "      <td>0.296</td>\n",
       "      <td>0.290</td>\n",
       "      <td>0.286</td>\n",
       "      <td>...</td>\n",
       "      <td>0.167</td>\n",
       "      <td>0.163</td>\n",
       "      <td>0.162</td>\n",
       "      <td>0.161</td>\n",
       "      <td>0.157</td>\n",
       "      <td>0.156</td>\n",
       "      <td>0.154</td>\n",
       "      <td>0.154</td>\n",
       "      <td>0.150</td>\n",
       "      <td>0.151</td>\n",
       "    </tr>\n",
       "    <tr>\n",
       "      <th>137</th>\n",
       "      <td>313.001</td>\n",
       "      <td>0.325</td>\n",
       "      <td>0.318</td>\n",
       "      <td>0.309</td>\n",
       "      <td>0.301</td>\n",
       "      <td>0.297</td>\n",
       "      <td>0.290</td>\n",
       "      <td>0.285</td>\n",
       "      <td>0.277</td>\n",
       "      <td>0.265</td>\n",
       "      <td>...</td>\n",
       "      <td>0.166</td>\n",
       "      <td>0.162</td>\n",
       "      <td>0.162</td>\n",
       "      <td>0.159</td>\n",
       "      <td>0.157</td>\n",
       "      <td>0.158</td>\n",
       "      <td>0.154</td>\n",
       "      <td>0.152</td>\n",
       "      <td>0.150</td>\n",
       "      <td>0.148</td>\n",
       "    </tr>\n",
       "    <tr>\n",
       "      <th>138</th>\n",
       "      <td>312.001</td>\n",
       "      <td>0.310</td>\n",
       "      <td>0.303</td>\n",
       "      <td>0.299</td>\n",
       "      <td>0.289</td>\n",
       "      <td>0.283</td>\n",
       "      <td>0.276</td>\n",
       "      <td>0.270</td>\n",
       "      <td>0.261</td>\n",
       "      <td>0.260</td>\n",
       "      <td>...</td>\n",
       "      <td>0.163</td>\n",
       "      <td>0.160</td>\n",
       "      <td>0.156</td>\n",
       "      <td>0.157</td>\n",
       "      <td>0.154</td>\n",
       "      <td>0.153</td>\n",
       "      <td>0.152</td>\n",
       "      <td>0.150</td>\n",
       "      <td>0.148</td>\n",
       "      <td>0.146</td>\n",
       "    </tr>\n",
       "    <tr>\n",
       "      <th>139</th>\n",
       "      <td>311.001</td>\n",
       "      <td>0.295</td>\n",
       "      <td>0.290</td>\n",
       "      <td>0.283</td>\n",
       "      <td>0.278</td>\n",
       "      <td>0.271</td>\n",
       "      <td>0.266</td>\n",
       "      <td>0.261</td>\n",
       "      <td>0.252</td>\n",
       "      <td>0.247</td>\n",
       "      <td>...</td>\n",
       "      <td>0.161</td>\n",
       "      <td>0.158</td>\n",
       "      <td>0.155</td>\n",
       "      <td>0.155</td>\n",
       "      <td>0.153</td>\n",
       "      <td>0.152</td>\n",
       "      <td>0.150</td>\n",
       "      <td>0.151</td>\n",
       "      <td>0.148</td>\n",
       "      <td>0.144</td>\n",
       "    </tr>\n",
       "    <tr>\n",
       "      <th>140</th>\n",
       "      <td>310.001</td>\n",
       "      <td>0.282</td>\n",
       "      <td>0.281</td>\n",
       "      <td>0.272</td>\n",
       "      <td>0.268</td>\n",
       "      <td>0.261</td>\n",
       "      <td>0.252</td>\n",
       "      <td>0.250</td>\n",
       "      <td>0.245</td>\n",
       "      <td>0.239</td>\n",
       "      <td>...</td>\n",
       "      <td>0.162</td>\n",
       "      <td>0.161</td>\n",
       "      <td>0.158</td>\n",
       "      <td>0.159</td>\n",
       "      <td>0.156</td>\n",
       "      <td>0.156</td>\n",
       "      <td>0.153</td>\n",
       "      <td>0.150</td>\n",
       "      <td>0.152</td>\n",
       "      <td>0.148</td>\n",
       "    </tr>\n",
       "  </tbody>\n",
       "</table>\n",
       "<p>141 rows × 49 columns</p>\n",
       "</div>"
      ],
      "text/plain": [
       "     wavelength    4.0    6.0    8.0   10.0   12.0   14.0   16.0   18.0  \\\n",
       "0       450.000  0.080  0.080  0.081  0.080  0.080  0.081  0.081  0.080   \n",
       "1       449.000  0.081  0.081  0.082  0.081  0.081  0.081  0.080  0.081   \n",
       "2       448.000  0.081  0.081  0.080  0.081  0.082  0.080  0.081  0.082   \n",
       "3       447.000  0.081  0.081  0.082  0.082  0.082  0.081  0.082  0.081   \n",
       "4       446.000  0.082  0.081  0.082  0.082  0.081  0.082  0.081  0.081   \n",
       "..          ...    ...    ...    ...    ...    ...    ...    ...    ...   \n",
       "136     314.001  0.339  0.332  0.325  0.317  0.311  0.305  0.296  0.290   \n",
       "137     313.001  0.325  0.318  0.309  0.301  0.297  0.290  0.285  0.277   \n",
       "138     312.001  0.310  0.303  0.299  0.289  0.283  0.276  0.270  0.261   \n",
       "139     311.001  0.295  0.290  0.283  0.278  0.271  0.266  0.261  0.252   \n",
       "140     310.001  0.282  0.281  0.272  0.268  0.261  0.252  0.250  0.245   \n",
       "\n",
       "      20.0  ...   80.0   82.0   84.0   86.0   88.0   90.0   92.0   94.0  \\\n",
       "0    0.081  ...  0.079  0.079  0.079  0.079  0.078  0.078  0.078  0.077   \n",
       "1    0.081  ...  0.078  0.079  0.079  0.077  0.079  0.078  0.079  0.078   \n",
       "2    0.082  ...  0.079  0.080  0.079  0.079  0.078  0.079  0.079  0.078   \n",
       "3    0.082  ...  0.079  0.079  0.079  0.079  0.079  0.078  0.079  0.078   \n",
       "4    0.082  ...  0.079  0.079  0.079  0.079  0.079  0.078  0.078  0.078   \n",
       "..     ...  ...    ...    ...    ...    ...    ...    ...    ...    ...   \n",
       "136  0.286  ...  0.167  0.163  0.162  0.161  0.157  0.156  0.154  0.154   \n",
       "137  0.265  ...  0.166  0.162  0.162  0.159  0.157  0.158  0.154  0.152   \n",
       "138  0.260  ...  0.163  0.160  0.156  0.157  0.154  0.153  0.152  0.150   \n",
       "139  0.247  ...  0.161  0.158  0.155  0.155  0.153  0.152  0.150  0.151   \n",
       "140  0.239  ...  0.162  0.161  0.158  0.159  0.156  0.156  0.153  0.150   \n",
       "\n",
       "      96.0   98.0  \n",
       "0    0.078  0.078  \n",
       "1    0.078  0.078  \n",
       "2    0.078  0.079  \n",
       "3    0.078  0.077  \n",
       "4    0.078  0.077  \n",
       "..     ...    ...  \n",
       "136  0.150  0.151  \n",
       "137  0.150  0.148  \n",
       "138  0.148  0.146  \n",
       "139  0.148  0.144  \n",
       "140  0.152  0.148  \n",
       "\n",
       "[141 rows x 49 columns]"
      ]
     },
     "execution_count": 3,
     "metadata": {},
     "output_type": "execute_result"
    }
   ],
   "source": [
    "# Put the right filepath\n",
    "df = read_all_files(\"uday_FL_data/*.dat\")\n",
    "df"
   ]
  },
  {
   "cell_type": "markdown",
   "metadata": {},
   "source": [
    "### Only for viewing the low temperature data"
   ]
  },
  {
   "cell_type": "code",
   "execution_count": 4,
   "metadata": {
    "ExecuteTime": {
     "end_time": "2018-10-06T19:34:49.040835Z",
     "start_time": "2018-10-06T19:34:48.809560Z"
    }
   },
   "outputs": [
    {
     "data": {
      "text/plain": [
       "[<matplotlib.lines.Line2D at 0x7fedb15932d0>]"
      ]
     },
     "execution_count": 4,
     "metadata": {},
     "output_type": "execute_result"
    },
    {
     "data": {
      "image/png": "[encoded data removed]",
      "text/plain": [
       "<Figure size 432x288 with 1 Axes>"
      ]
     },
     "metadata": {
      "needs_background": "light"
     },
     "output_type": "display_data"
    }
   ],
   "source": [
    "# Plot the Fluoroscence signal at low temperature\n",
    "low_temperature = 4.0\n",
    "plt.plot(df.wavelength, df[low_temperature])"
   ]
  },
  {
   "cell_type": "markdown",
   "metadata": {},
   "source": [
    "### To get the $Q_{max}$"
   ]
  },
  {
   "cell_type": "code",
   "execution_count": 5,
   "metadata": {
    "ExecuteTime": {
     "end_time": "2018-10-06T20:21:37.971679Z",
     "start_time": "2018-10-06T20:21:37.959817Z"
    }
   },
   "outputs": [
    {
     "name": "stdout",
     "output_type": "stream",
     "text": [
      "Q334\n"
     ]
    }
   ],
   "source": [
    "def get_q_max(df, temperature=4.0):\n",
    "    Q_max = df.wavelength[df[temperature]==np.max(df[temperature])].values[0]\n",
    "    return Q_max\n",
    "\n",
    "Q_max = get_q_max(df, 4.0)\n",
    "Q = \"Q\"+str(int(Q_max))\n",
    "print(Q)"
   ]
  },
  {
   "cell_type": "code",
   "execution_count": 6,
   "metadata": {
    "ExecuteTime": {
     "end_time": "2018-10-06T20:25:26.933502Z",
     "start_time": "2018-10-06T20:25:26.785994Z"
    }
   },
   "outputs": [
    {
     "name": "stdout",
     "output_type": "stream",
     "text": [
      "Fluoroscence peak (at temperature 4°C) is at 0.514\n"
     ]
    }
   ],
   "source": [
    "peak = np.max(df[4.0])\n",
    "print(\"Fluoroscence peak (at temperature 4°C) is at\", peak)\n",
    "df2 = df[df[4.0] == peak].T[1:]\n",
    "df2.columns = [Q]\n",
    "df2['T_inv'] = 1/ (df2.index + 273.15)\n",
    "df2['ln(Q_inv - 1)'] = np.log(1/df2[Q] - 1)"
   ]
  },
  {
   "cell_type": "markdown",
   "metadata": {},
   "source": [
    "### View the $T^{-1}$ vs $ln(Q^{-1} - 1)$  as well as the visualisation of the fit"
   ]
  },
  {
   "cell_type": "code",
   "execution_count": 7,
   "metadata": {
    "ExecuteTime": {
     "end_time": "2018-10-06T20:27:42.967706Z",
     "start_time": "2018-10-06T20:27:42.719885Z"
    }
   },
   "outputs": [
    {
     "data": {
      "text/plain": [
       "[<matplotlib.lines.Line2D at 0x7fedb16577d0>]"
      ]
     },
     "execution_count": 7,
     "metadata": {},
     "output_type": "execute_result"
    },
    {
     "data": {
      "image/png": "[encoded data removed]",
      "text/plain": [
       "<Figure size 432x288 with 1 Axes>"
      ]
     },
     "metadata": {
      "needs_background": "light"
     },
     "output_type": "display_data"
    }
   ],
   "source": [
    "plt.plot(df2['T_inv'], df2['ln(Q_inv - 1)'])"
   ]
  },
  {
   "cell_type": "code",
   "execution_count": 8,
   "metadata": {
    "ExecuteTime": {
     "end_time": "2018-10-06T20:27:43.432939Z",
     "start_time": "2018-10-06T20:27:43.206986Z"
    }
   },
   "outputs": [
    {
     "name": "stdout",
     "output_type": "stream",
     "text": [
      "-1238.3548571315348 4.423793300693215\n"
     ]
    },
    {
     "data": {
      "image/png": "[encoded data removed]",
      "text/plain": [
       "<Figure size 432x288 with 1 Axes>"
      ]
     },
     "metadata": {
      "needs_background": "light"
     },
     "output_type": "display_data"
    }
   ],
   "source": [
    "# Find the slope and intercept for the lower temperature range 4°C to 20°C\n",
    "slope, intercept = fit_line(df2, 10, 20)\n",
    "print(slope, intercept)"
   ]
  },
  {
   "cell_type": "code",
   "execution_count": 9,
   "metadata": {
    "ExecuteTime": {
     "end_time": "2018-10-06T20:27:44.391742Z",
     "start_time": "2018-10-06T20:27:44.163957Z"
    }
   },
   "outputs": [
    {
     "name": "stdout",
     "output_type": "stream",
     "text": [
      "-1727.7985487288531 6.3409134110425285\n"
     ]
    },
    {
     "data": {
      "image/png": "[encoded data removed]",
      "text/plain": [
       "<Figure size 432x288 with 1 Axes>"
      ]
     },
     "metadata": {
      "needs_background": "light"
     },
     "output_type": "display_data"
    }
   ],
   "source": [
    "# Find the slope and intercept for the higher temperature range 55°C to 70°C\n",
    "slope, intercept = fit_line(df2, 60, 70)\n",
    "print(slope, intercept)"
   ]
  },
  {
   "cell_type": "markdown",
   "metadata": {},
   "source": [
    "### Find F0, Fd and Fu \n",
    "Manually modify line 1 and line 3 to set the low and high temperature ranges as shown in the comments"
   ]
  },
  {
   "cell_type": "code",
   "execution_count": 10,
   "metadata": {
    "ExecuteTime": {
     "end_time": "2018-10-06T20:30:40.646760Z",
     "start_time": "2018-10-06T20:30:40.629338Z"
    },
    "scrolled": true
   },
   "outputs": [],
   "source": [
    "# Find 'F0'. Set appropriate low and high temperature range\n",
    "slope, intercept = fit_line(df2, temp_low=10, temp_high=20, plot=False)  \n",
    "df2['F0'] = np.power((1 + np.exp(slope*df2['T_inv'])*np.exp(intercept)), -1)\n",
    "\n",
    "# Find 'Fd'. Set appropriate low and high temperature range\n",
    "slope, intercept = fit_line(df2, temp_low=60, temp_high=70, plot=False)\n",
    "df2['Fd'] = np.power((1 + np.exp(slope*df2['T_inv'])*np.exp(intercept)), -1)\n",
    "\n",
    "# Find 'Fu'\n",
    "df2['Fu'] = (df2['Q334'] - df2['F0'])/(df2['Fd'] - df2['F0'])"
   ]
  },
  {
   "cell_type": "markdown",
   "metadata": {},
   "source": [
    "### Visualize the final table with all the relevant features"
   ]
  },
  {
   "cell_type": "code",
   "execution_count": 11,
   "metadata": {
    "ExecuteTime": {
     "end_time": "2018-10-06T20:31:13.299183Z",
     "start_time": "2018-10-06T20:31:13.266545Z"
    },
    "scrolled": true
   },
   "outputs": [
    {
     "data": {
      "text/html": [
       "<div>\n",
       "<style scoped>\n",
       "    .dataframe tbody tr th:only-of-type {\n",
       "        vertical-align: middle;\n",
       "    }\n",
       "\n",
       "    .dataframe tbody tr th {\n",
       "        vertical-align: top;\n",
       "    }\n",
       "\n",
       "    .dataframe thead th {\n",
       "        text-align: right;\n",
       "    }\n",
       "</style>\n",
       "<table border=\"1\" class=\"dataframe\">\n",
       "  <thead>\n",
       "    <tr style=\"text-align: right;\">\n",
       "      <th></th>\n",
       "      <th>Q334</th>\n",
       "      <th>T_inv</th>\n",
       "      <th>ln(Q_inv - 1)</th>\n",
       "      <th>F0</th>\n",
       "      <th>Fd</th>\n",
       "      <th>Fu</th>\n",
       "    </tr>\n",
       "  </thead>\n",
       "  <tbody>\n",
       "    <tr>\n",
       "      <th>4.0</th>\n",
       "      <td>0.514</td>\n",
       "      <td>0.003608</td>\n",
       "      <td>-0.056015</td>\n",
       "      <td>0.511094</td>\n",
       "      <td>0.473338</td>\n",
       "      <td>-0.076975</td>\n",
       "    </tr>\n",
       "    <tr>\n",
       "      <th>6.0</th>\n",
       "      <td>0.502</td>\n",
       "      <td>0.003582</td>\n",
       "      <td>-0.008000</td>\n",
       "      <td>0.503092</td>\n",
       "      <td>0.462218</td>\n",
       "      <td>0.026725</td>\n",
       "    </tr>\n",
       "    <tr>\n",
       "      <th>8.0</th>\n",
       "      <td>0.492</td>\n",
       "      <td>0.003557</td>\n",
       "      <td>0.032003</td>\n",
       "      <td>0.495203</td>\n",
       "      <td>0.451294</td>\n",
       "      <td>0.072951</td>\n",
       "    </tr>\n",
       "    <tr>\n",
       "      <th>10.0</th>\n",
       "      <td>0.488</td>\n",
       "      <td>0.003532</td>\n",
       "      <td>0.048009</td>\n",
       "      <td>0.487428</td>\n",
       "      <td>0.440569</td>\n",
       "      <td>-0.012210</td>\n",
       "    </tr>\n",
       "    <tr>\n",
       "      <th>12.0</th>\n",
       "      <td>0.479</td>\n",
       "      <td>0.003507</td>\n",
       "      <td>0.084049</td>\n",
       "      <td>0.479767</td>\n",
       "      <td>0.430049</td>\n",
       "      <td>0.015437</td>\n",
       "    </tr>\n",
       "    <tr>\n",
       "      <th>14.0</th>\n",
       "      <td>0.470</td>\n",
       "      <td>0.003483</td>\n",
       "      <td>0.120144</td>\n",
       "      <td>0.472223</td>\n",
       "      <td>0.419737</td>\n",
       "      <td>0.042356</td>\n",
       "    </tr>\n",
       "    <tr>\n",
       "      <th>16.0</th>\n",
       "      <td>0.466</td>\n",
       "      <td>0.003458</td>\n",
       "      <td>0.136210</td>\n",
       "      <td>0.464796</td>\n",
       "      <td>0.409635</td>\n",
       "      <td>-0.021836</td>\n",
       "    </tr>\n",
       "    <tr>\n",
       "      <th>18.0</th>\n",
       "      <td>0.462</td>\n",
       "      <td>0.003435</td>\n",
       "      <td>0.152294</td>\n",
       "      <td>0.457485</td>\n",
       "      <td>0.399747</td>\n",
       "      <td>-0.078194</td>\n",
       "    </tr>\n",
       "    <tr>\n",
       "      <th>20.0</th>\n",
       "      <td>0.447</td>\n",
       "      <td>0.003411</td>\n",
       "      <td>0.212799</td>\n",
       "      <td>0.450293</td>\n",
       "      <td>0.390073</td>\n",
       "      <td>0.054675</td>\n",
       "    </tr>\n",
       "    <tr>\n",
       "      <th>22.0</th>\n",
       "      <td>0.443</td>\n",
       "      <td>0.003388</td>\n",
       "      <td>0.228995</td>\n",
       "      <td>0.443218</td>\n",
       "      <td>0.380613</td>\n",
       "      <td>0.003476</td>\n",
       "    </tr>\n",
       "    <tr>\n",
       "      <th>24.0</th>\n",
       "      <td>0.436</td>\n",
       "      <td>0.003365</td>\n",
       "      <td>0.257412</td>\n",
       "      <td>0.436260</td>\n",
       "      <td>0.371369</td>\n",
       "      <td>0.004013</td>\n",
       "    </tr>\n",
       "    <tr>\n",
       "      <th>26.0</th>\n",
       "      <td>0.431</td>\n",
       "      <td>0.003343</td>\n",
       "      <td>0.277772</td>\n",
       "      <td>0.429421</td>\n",
       "      <td>0.362340</td>\n",
       "      <td>-0.023543</td>\n",
       "    </tr>\n",
       "    <tr>\n",
       "      <th>28.0</th>\n",
       "      <td>0.420</td>\n",
       "      <td>0.003321</td>\n",
       "      <td>0.322773</td>\n",
       "      <td>0.422698</td>\n",
       "      <td>0.353526</td>\n",
       "      <td>0.039007</td>\n",
       "    </tr>\n",
       "    <tr>\n",
       "      <th>30.0</th>\n",
       "      <td>0.421</td>\n",
       "      <td>0.003299</td>\n",
       "      <td>0.318670</td>\n",
       "      <td>0.416092</td>\n",
       "      <td>0.344923</td>\n",
       "      <td>-0.068959</td>\n",
       "    </tr>\n",
       "    <tr>\n",
       "      <th>32.0</th>\n",
       "      <td>0.407</td>\n",
       "      <td>0.003277</td>\n",
       "      <td>0.376381</td>\n",
       "      <td>0.409602</td>\n",
       "      <td>0.336533</td>\n",
       "      <td>0.035615</td>\n",
       "    </tr>\n",
       "    <tr>\n",
       "      <th>34.0</th>\n",
       "      <td>0.398</td>\n",
       "      <td>0.003256</td>\n",
       "      <td>0.413805</td>\n",
       "      <td>0.403228</td>\n",
       "      <td>0.328351</td>\n",
       "      <td>0.069818</td>\n",
       "    </tr>\n",
       "    <tr>\n",
       "      <th>36.0</th>\n",
       "      <td>0.390</td>\n",
       "      <td>0.003235</td>\n",
       "      <td>0.447312</td>\n",
       "      <td>0.396967</td>\n",
       "      <td>0.320376</td>\n",
       "      <td>0.090969</td>\n",
       "    </tr>\n",
       "    <tr>\n",
       "      <th>38.0</th>\n",
       "      <td>0.376</td>\n",
       "      <td>0.003214</td>\n",
       "      <td>0.506561</td>\n",
       "      <td>0.390821</td>\n",
       "      <td>0.312605</td>\n",
       "      <td>0.189483</td>\n",
       "    </tr>\n",
       "    <tr>\n",
       "      <th>40.0</th>\n",
       "      <td>0.365</td>\n",
       "      <td>0.003193</td>\n",
       "      <td>0.553728</td>\n",
       "      <td>0.384786</td>\n",
       "      <td>0.305035</td>\n",
       "      <td>0.248097</td>\n",
       "    </tr>\n",
       "    <tr>\n",
       "      <th>42.0</th>\n",
       "      <td>0.353</td>\n",
       "      <td>0.003173</td>\n",
       "      <td>0.605878</td>\n",
       "      <td>0.378862</td>\n",
       "      <td>0.297663</td>\n",
       "      <td>0.318507</td>\n",
       "    </tr>\n",
       "    <tr>\n",
       "      <th>44.0</th>\n",
       "      <td>0.337</td>\n",
       "      <td>0.003153</td>\n",
       "      <td>0.676692</td>\n",
       "      <td>0.373049</td>\n",
       "      <td>0.290486</td>\n",
       "      <td>0.436626</td>\n",
       "    </tr>\n",
       "    <tr>\n",
       "      <th>46.0</th>\n",
       "      <td>0.321</td>\n",
       "      <td>0.003133</td>\n",
       "      <td>0.749180</td>\n",
       "      <td>0.367344</td>\n",
       "      <td>0.283501</td>\n",
       "      <td>0.552746</td>\n",
       "    </tr>\n",
       "    <tr>\n",
       "      <th>48.0</th>\n",
       "      <td>0.305</td>\n",
       "      <td>0.003114</td>\n",
       "      <td>0.823600</td>\n",
       "      <td>0.361746</td>\n",
       "      <td>0.276703</td>\n",
       "      <td>0.667261</td>\n",
       "    </tr>\n",
       "    <tr>\n",
       "      <th>50.0</th>\n",
       "      <td>0.288</td>\n",
       "      <td>0.003095</td>\n",
       "      <td>0.905117</td>\n",
       "      <td>0.356255</td>\n",
       "      <td>0.270088</td>\n",
       "      <td>0.792126</td>\n",
       "    </tr>\n",
       "    <tr>\n",
       "      <th>52.0</th>\n",
       "      <td>0.272</td>\n",
       "      <td>0.003076</td>\n",
       "      <td>0.984499</td>\n",
       "      <td>0.350867</td>\n",
       "      <td>0.263654</td>\n",
       "      <td>0.904303</td>\n",
       "    </tr>\n",
       "    <tr>\n",
       "      <th>54.0</th>\n",
       "      <td>0.262</td>\n",
       "      <td>0.003057</td>\n",
       "      <td>1.035599</td>\n",
       "      <td>0.345583</td>\n",
       "      <td>0.257396</td>\n",
       "      <td>0.947790</td>\n",
       "    </tr>\n",
       "    <tr>\n",
       "      <th>56.0</th>\n",
       "      <td>0.252</td>\n",
       "      <td>0.003038</td>\n",
       "      <td>1.087974</td>\n",
       "      <td>0.340400</td>\n",
       "      <td>0.251310</td>\n",
       "      <td>0.992252</td>\n",
       "    </tr>\n",
       "    <tr>\n",
       "      <th>58.0</th>\n",
       "      <td>0.245</td>\n",
       "      <td>0.003020</td>\n",
       "      <td>1.125460</td>\n",
       "      <td>0.335317</td>\n",
       "      <td>0.245392</td>\n",
       "      <td>1.004357</td>\n",
       "    </tr>\n",
       "    <tr>\n",
       "      <th>60.0</th>\n",
       "      <td>0.240</td>\n",
       "      <td>0.003002</td>\n",
       "      <td>1.152680</td>\n",
       "      <td>0.330332</td>\n",
       "      <td>0.239638</td>\n",
       "      <td>0.996008</td>\n",
       "    </tr>\n",
       "    <tr>\n",
       "      <th>62.0</th>\n",
       "      <td>0.232</td>\n",
       "      <td>0.002984</td>\n",
       "      <td>1.197052</td>\n",
       "      <td>0.325444</td>\n",
       "      <td>0.234044</td>\n",
       "      <td>1.022366</td>\n",
       "    </tr>\n",
       "    <tr>\n",
       "      <th>64.0</th>\n",
       "      <td>0.230</td>\n",
       "      <td>0.002966</td>\n",
       "      <td>1.208311</td>\n",
       "      <td>0.320650</td>\n",
       "      <td>0.228607</td>\n",
       "      <td>0.984862</td>\n",
       "    </tr>\n",
       "    <tr>\n",
       "      <th>66.0</th>\n",
       "      <td>0.225</td>\n",
       "      <td>0.002949</td>\n",
       "      <td>1.236763</td>\n",
       "      <td>0.315950</td>\n",
       "      <td>0.223321</td>\n",
       "      <td>0.981874</td>\n",
       "    </tr>\n",
       "    <tr>\n",
       "      <th>68.0</th>\n",
       "      <td>0.217</td>\n",
       "      <td>0.002931</td>\n",
       "      <td>1.283235</td>\n",
       "      <td>0.311342</td>\n",
       "      <td>0.218184</td>\n",
       "      <td>1.012705</td>\n",
       "    </tr>\n",
       "    <tr>\n",
       "      <th>70.0</th>\n",
       "      <td>0.213</td>\n",
       "      <td>0.002914</td>\n",
       "      <td>1.306936</td>\n",
       "      <td>0.306824</td>\n",
       "      <td>0.213190</td>\n",
       "      <td>1.002031</td>\n",
       "    </tr>\n",
       "    <tr>\n",
       "      <th>72.0</th>\n",
       "      <td>0.207</td>\n",
       "      <td>0.002897</td>\n",
       "      <td>1.343104</td>\n",
       "      <td>0.302395</td>\n",
       "      <td>0.208337</td>\n",
       "      <td>1.014216</td>\n",
       "    </tr>\n",
       "    <tr>\n",
       "      <th>74.0</th>\n",
       "      <td>0.203</td>\n",
       "      <td>0.002881</td>\n",
       "      <td>1.367649</td>\n",
       "      <td>0.298052</td>\n",
       "      <td>0.203620</td>\n",
       "      <td>1.006570</td>\n",
       "    </tr>\n",
       "    <tr>\n",
       "      <th>76.0</th>\n",
       "      <td>0.195</td>\n",
       "      <td>0.002864</td>\n",
       "      <td>1.417843</td>\n",
       "      <td>0.293795</td>\n",
       "      <td>0.199036</td>\n",
       "      <td>1.042596</td>\n",
       "    </tr>\n",
       "    <tr>\n",
       "      <th>78.0</th>\n",
       "      <td>0.193</td>\n",
       "      <td>0.002848</td>\n",
       "      <td>1.430633</td>\n",
       "      <td>0.289621</td>\n",
       "      <td>0.194581</td>\n",
       "      <td>1.016637</td>\n",
       "    </tr>\n",
       "    <tr>\n",
       "      <th>80.0</th>\n",
       "      <td>0.188</td>\n",
       "      <td>0.002832</td>\n",
       "      <td>1.463058</td>\n",
       "      <td>0.285530</td>\n",
       "      <td>0.190251</td>\n",
       "      <td>1.023627</td>\n",
       "    </tr>\n",
       "    <tr>\n",
       "      <th>82.0</th>\n",
       "      <td>0.185</td>\n",
       "      <td>0.002816</td>\n",
       "      <td>1.482832</td>\n",
       "      <td>0.281518</td>\n",
       "      <td>0.186043</td>\n",
       "      <td>1.010922</td>\n",
       "    </tr>\n",
       "    <tr>\n",
       "      <th>84.0</th>\n",
       "      <td>0.178</td>\n",
       "      <td>0.002800</td>\n",
       "      <td>1.529957</td>\n",
       "      <td>0.277586</td>\n",
       "      <td>0.181953</td>\n",
       "      <td>1.041331</td>\n",
       "    </tr>\n",
       "    <tr>\n",
       "      <th>86.0</th>\n",
       "      <td>0.179</td>\n",
       "      <td>0.002784</td>\n",
       "      <td>1.523137</td>\n",
       "      <td>0.273730</td>\n",
       "      <td>0.177977</td>\n",
       "      <td>0.989316</td>\n",
       "    </tr>\n",
       "    <tr>\n",
       "      <th>88.0</th>\n",
       "      <td>0.171</td>\n",
       "      <td>0.002769</td>\n",
       "      <td>1.578557</td>\n",
       "      <td>0.269951</td>\n",
       "      <td>0.174113</td>\n",
       "      <td>1.032478</td>\n",
       "    </tr>\n",
       "    <tr>\n",
       "      <th>90.0</th>\n",
       "      <td>0.171</td>\n",
       "      <td>0.002754</td>\n",
       "      <td>1.578557</td>\n",
       "      <td>0.266245</td>\n",
       "      <td>0.170356</td>\n",
       "      <td>0.993288</td>\n",
       "    </tr>\n",
       "    <tr>\n",
       "      <th>92.0</th>\n",
       "      <td>0.167</td>\n",
       "      <td>0.002739</td>\n",
       "      <td>1.607040</td>\n",
       "      <td>0.262612</td>\n",
       "      <td>0.166705</td>\n",
       "      <td>0.996922</td>\n",
       "    </tr>\n",
       "    <tr>\n",
       "      <th>94.0</th>\n",
       "      <td>0.164</td>\n",
       "      <td>0.002724</td>\n",
       "      <td>1.628762</td>\n",
       "      <td>0.259051</td>\n",
       "      <td>0.163155</td>\n",
       "      <td>0.991187</td>\n",
       "    </tr>\n",
       "    <tr>\n",
       "      <th>96.0</th>\n",
       "      <td>0.160</td>\n",
       "      <td>0.002709</td>\n",
       "      <td>1.658228</td>\n",
       "      <td>0.255559</td>\n",
       "      <td>0.159704</td>\n",
       "      <td>0.996908</td>\n",
       "    </tr>\n",
       "    <tr>\n",
       "      <th>98.0</th>\n",
       "      <td>0.156</td>\n",
       "      <td>0.002694</td>\n",
       "      <td>1.688296</td>\n",
       "      <td>0.252135</td>\n",
       "      <td>0.156348</td>\n",
       "      <td>1.003632</td>\n",
       "    </tr>\n",
       "  </tbody>\n",
       "</table>\n",
       "</div>"
      ],
      "text/plain": [
       "       Q334     T_inv  ln(Q_inv - 1)        F0        Fd        Fu\n",
       "4.0   0.514  0.003608      -0.056015  0.511094  0.473338 -0.076975\n",
       "6.0   0.502  0.003582      -0.008000  0.503092  0.462218  0.026725\n",
       "8.0   0.492  0.003557       0.032003  0.495203  0.451294  0.072951\n",
       "10.0  0.488  0.003532       0.048009  0.487428  0.440569 -0.012210\n",
       "12.0  0.479  0.003507       0.084049  0.479767  0.430049  0.015437\n",
       "14.0  0.470  0.003483       0.120144  0.472223  0.419737  0.042356\n",
       "16.0  0.466  0.003458       0.136210  0.464796  0.409635 -0.021836\n",
       "18.0  0.462  0.003435       0.152294  0.457485  0.399747 -0.078194\n",
       "20.0  0.447  0.003411       0.212799  0.450293  0.390073  0.054675\n",
       "22.0  0.443  0.003388       0.228995  0.443218  0.380613  0.003476\n",
       "24.0  0.436  0.003365       0.257412  0.436260  0.371369  0.004013\n",
       "26.0  0.431  0.003343       0.277772  0.429421  0.362340 -0.023543\n",
       "28.0  0.420  0.003321       0.322773  0.422698  0.353526  0.039007\n",
       "30.0  0.421  0.003299       0.318670  0.416092  0.344923 -0.068959\n",
       "32.0  0.407  0.003277       0.376381  0.409602  0.336533  0.035615\n",
       "34.0  0.398  0.003256       0.413805  0.403228  0.328351  0.069818\n",
       "36.0  0.390  0.003235       0.447312  0.396967  0.320376  0.090969\n",
       "38.0  0.376  0.003214       0.506561  0.390821  0.312605  0.189483\n",
       "40.0  0.365  0.003193       0.553728  0.384786  0.305035  0.248097\n",
       "42.0  0.353  0.003173       0.605878  0.378862  0.297663  0.318507\n",
       "44.0  0.337  0.003153       0.676692  0.373049  0.290486  0.436626\n",
       "46.0  0.321  0.003133       0.749180  0.367344  0.283501  0.552746\n",
       "48.0  0.305  0.003114       0.823600  0.361746  0.276703  0.667261\n",
       "50.0  0.288  0.003095       0.905117  0.356255  0.270088  0.792126\n",
       "52.0  0.272  0.003076       0.984499  0.350867  0.263654  0.904303\n",
       "54.0  0.262  0.003057       1.035599  0.345583  0.257396  0.947790\n",
       "56.0  0.252  0.003038       1.087974  0.340400  0.251310  0.992252\n",
       "58.0  0.245  0.003020       1.125460  0.335317  0.245392  1.004357\n",
       "60.0  0.240  0.003002       1.152680  0.330332  0.239638  0.996008\n",
       "62.0  0.232  0.002984       1.197052  0.325444  0.234044  1.022366\n",
       "64.0  0.230  0.002966       1.208311  0.320650  0.228607  0.984862\n",
       "66.0  0.225  0.002949       1.236763  0.315950  0.223321  0.981874\n",
       "68.0  0.217  0.002931       1.283235  0.311342  0.218184  1.012705\n",
       "70.0  0.213  0.002914       1.306936  0.306824  0.213190  1.002031\n",
       "72.0  0.207  0.002897       1.343104  0.302395  0.208337  1.014216\n",
       "74.0  0.203  0.002881       1.367649  0.298052  0.203620  1.006570\n",
       "76.0  0.195  0.002864       1.417843  0.293795  0.199036  1.042596\n",
       "78.0  0.193  0.002848       1.430633  0.289621  0.194581  1.016637\n",
       "80.0  0.188  0.002832       1.463058  0.285530  0.190251  1.023627\n",
       "82.0  0.185  0.002816       1.482832  0.281518  0.186043  1.010922\n",
       "84.0  0.178  0.002800       1.529957  0.277586  0.181953  1.041331\n",
       "86.0  0.179  0.002784       1.523137  0.273730  0.177977  0.989316\n",
       "88.0  0.171  0.002769       1.578557  0.269951  0.174113  1.032478\n",
       "90.0  0.171  0.002754       1.578557  0.266245  0.170356  0.993288\n",
       "92.0  0.167  0.002739       1.607040  0.262612  0.166705  0.996922\n",
       "94.0  0.164  0.002724       1.628762  0.259051  0.163155  0.991187\n",
       "96.0  0.160  0.002709       1.658228  0.255559  0.159704  0.996908\n",
       "98.0  0.156  0.002694       1.688296  0.252135  0.156348  1.003632"
      ]
     },
     "execution_count": 11,
     "metadata": {},
     "output_type": "execute_result"
    }
   ],
   "source": [
    "df2"
   ]
  },
  {
   "cell_type": "markdown",
   "metadata": {},
   "source": [
    "### Fit the final curve"
   ]
  },
  {
   "cell_type": "code",
   "execution_count": 12,
   "metadata": {
    "ExecuteTime": {
     "end_time": "2018-10-06T20:32:04.348571Z",
     "start_time": "2018-10-06T20:32:04.342427Z"
    }
   },
   "outputs": [],
   "source": [
    "# Function to fit\n",
    "def func(x, S, H):\n",
    "    return np.power((1 + np.exp(S - H/x)), -1)"
   ]
  },
  {
   "cell_type": "code",
   "execution_count": 13,
   "metadata": {
    "ExecuteTime": {
     "end_time": "2018-10-06T20:32:17.700994Z",
     "start_time": "2018-10-06T20:32:17.673816Z"
    }
   },
   "outputs": [],
   "source": [
    "# call the above function\n",
    "popt, pcov = curve_fit(func, 1/df2['T_inv'], df2['Fu'])"
   ]
  },
  {
   "cell_type": "markdown",
   "metadata": {},
   "source": [
    "### Visually the fit curve"
   ]
  },
  {
   "cell_type": "code",
   "execution_count": 14,
   "metadata": {
    "ExecuteTime": {
     "end_time": "2018-10-06T20:15:34.403229Z",
     "start_time": "2018-10-06T20:15:34.132928Z"
    }
   },
   "outputs": [
    {
     "data": {
      "text/plain": [
       "<matplotlib.legend.Legend at 0x7fed910c23d0>"
      ]
     },
     "execution_count": 14,
     "metadata": {},
     "output_type": "execute_result"
    },
    {
     "data": {
      "image/png": "[encoded data removed]",
      "text/plain": [
       "<Figure size 432x288 with 1 Axes>"
      ]
     },
     "metadata": {
      "needs_background": "light"
     },
     "output_type": "display_data"
    }
   ],
   "source": [
    "plt.scatter(1/df2['T_inv'], df2['Fu'], marker='*', color='r', label='original data')\n",
    "plt.plot(1/df2['T_inv'], func(1/df2['T_inv'], *popt), color='k', label='fitted data')\n",
    "plt.legend()"
   ]
  },
  {
   "cell_type": "code",
   "execution_count": 15,
   "metadata": {
    "ExecuteTime": {
     "end_time": "2018-10-06T20:32:55.490106Z",
     "start_time": "2018-10-06T20:32:55.484841Z"
    }
   },
   "outputs": [],
   "source": [
    "S, H = popt"
   ]
  },
  {
   "cell_type": "markdown",
   "metadata": {},
   "source": [
    "### Find the melting temperature"
   ]
  },
  {
   "cell_type": "code",
   "execution_count": 16,
   "metadata": {
    "ExecuteTime": {
     "end_time": "2018-10-06T20:35:16.744517Z",
     "start_time": "2018-10-06T20:35:16.739282Z"
    }
   },
   "outputs": [
    {
     "name": "stdout",
     "output_type": "stream",
     "text": [
      "Melting Temperature is 44.71507967286465\n"
     ]
    }
   ],
   "source": [
    "Tm = H/(S-np.log(1))\n",
    "\n",
    "#Convert to Kelvin\n",
    "print(\"Melting Temperature is\", Tm - 273.15)"
   ]
  },
  {
   "cell_type": "code",
   "execution_count": null,
   "metadata": {},
   "outputs": [],
   "source": []
  },
  {
   "cell_type": "code",
   "execution_count": null,
   "metadata": {},
   "outputs": [],
   "source": []
  }
 ],
 "metadata": {
  "kernelspec": {
   "display_name": "Python 3",
   "language": "python",
   "name": "python3"
  },
  "language_info": {
   "codemirror_mode": {
    "name": "ipython",
    "version": 3
   },
   "file_extension": ".py",
   "mimetype": "text/x-python",
   "name": "python",
   "nbconvert_exporter": "python",
   "pygments_lexer": "ipython3",
   "version": "3.7.10"
  }
 },
 "nbformat": 4,
 "nbformat_minor": 2
}
